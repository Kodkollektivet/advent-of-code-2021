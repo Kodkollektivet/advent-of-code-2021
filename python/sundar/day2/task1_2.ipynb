{
 "cells": [
  {
   "cell_type": "code",
   "execution_count": 2,
   "metadata": {},
   "outputs": [],
   "source": [
    "import pandas as pd"
   ]
  },
  {
   "cell_type": "code",
   "execution_count": 4,
   "metadata": {},
   "outputs": [],
   "source": [
    "df = pd.read_csv('./input.csv')\n",
    "df = df.drop(columns=['Unnamed: 2'])"
   ]
  },
  {
   "cell_type": "code",
   "execution_count": 9,
   "metadata": {},
   "outputs": [],
   "source": [
    "fwd = df.loc[df.direction=='forward'].units.values[:]\n",
    "total_fwd = sum(fwd)"
   ]
  },
  {
   "cell_type": "code",
   "execution_count": 11,
   "metadata": {},
   "outputs": [],
   "source": [
    "dwn = df.loc[df.direction=='down'].units.values[:]\n",
    "total_dwn = sum(dwn)\n",
    "up = df.loc[df.direction=='up'].units.values[:]\n",
    "total_up = sum(up)"
   ]
  },
  {
   "cell_type": "code",
   "execution_count": 12,
   "metadata": {},
   "outputs": [
    {
     "data": {
      "text/plain": [
       "1250395"
      ]
     },
     "execution_count": 12,
     "metadata": {},
     "output_type": "execute_result"
    }
   ],
   "source": [
    "total_fwd * (total_dwn - total_up)"
   ]
  },
  {
   "cell_type": "markdown",
   "metadata": {},
   "source": [
    "### Aim\n",
    "* Increases by X units with down\n",
    "* Decreases by X units with up\n",
    "* Forward X * Aim = depth"
   ]
  },
  {
   "cell_type": "code",
   "execution_count": 31,
   "metadata": {},
   "outputs": [
    {
     "data": {
      "text/plain": [
       "1451210346"
      ]
     },
     "execution_count": 31,
     "metadata": {},
     "output_type": "execute_result"
    }
   ],
   "source": [
    "aim = 0\n",
    "depth = 0\n",
    "for i in range(df.shape[0]):\n",
    "    if df.iloc[i].direction == 'forward':\n",
    "        depth = depth + (df.iloc[i].units * aim)\n",
    "    elif df.iloc[i].direction == 'down':\n",
    "        aim = aim + df.iloc[i].units\n",
    "    elif df.iloc[i].direction == 'up':\n",
    "        aim = aim - df.iloc[i].units\n",
    "total_fwd * depth"
   ]
  }
 ],
 "metadata": {
  "interpreter": {
   "hash": "31f2aee4e71d21fbe5cf8b01ff0e069b9275f58929596ceb00d14d90e3e16cd6"
  },
  "kernelspec": {
   "display_name": "Python 3.8.9 64-bit",
   "language": "python",
   "name": "python3"
  },
  "language_info": {
   "codemirror_mode": {
    "name": "ipython",
    "version": 3
   },
   "file_extension": ".py",
   "mimetype": "text/x-python",
   "name": "python",
   "nbconvert_exporter": "python",
   "pygments_lexer": "ipython3",
   "version": "3.8.9"
  },
  "orig_nbformat": 4
 },
 "nbformat": 4,
 "nbformat_minor": 2
}
